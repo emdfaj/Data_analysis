{
 "cells": [
  {
   "cell_type": "markdown",
   "metadata": {},
   "source": [
    "How to add comments?\n",
    "\n",
    "Comments in python are used to explain the code to humans, not to the python interpreter. They are ignored by the interpreter and do not affect the execution of the code.\n",
    "\n",
    "Comments in python start with the hash character (#) and extend to the end of the line."
   ]
  },
  {
   "cell_type": "code",
   "execution_count": null,
   "metadata": {},
   "outputs": [],
   "source": [
    "print(\"The python interpreter can read this\")\n",
    "\n",
    "#print(\"The python interpreter will ignore this\")"
   ]
  },
  {
   "cell_type": "markdown",
   "metadata": {},
   "source": [
    "Python as a calculator"
   ]
  },
  {
   "cell_type": "code",
   "execution_count": null,
   "metadata": {},
   "outputs": [],
   "source": [
    "5*5\n",
    "\n",
    "#5.3*4\n",
    "\n",
    "#5**2\n",
    "\n",
    "#5**2*2.5\n",
    "\n",
    "#2+3-5*4\n",
    "\n",
    "#5*9, 5+5, 5-1"
   ]
  },
  {
   "cell_type": "markdown",
   "metadata": {},
   "source": [
    "Python Variable and Data Types\n",
    "\n",
    "Variable is a named location in memory that can hold a value.\n",
    "\n",
    "Data type is a type of data that can be stored in a variable."
   ]
  },
  {
   "cell_type": "code",
   "execution_count": null,
   "metadata": {},
   "outputs": [],
   "source": [
    "a = 5   # a is considered as a variable that contains the integer value 5\n",
    "print(a)\n",
    "\n",
    "#x = True\n",
    "#y = False\n",
    "#print(x, y)\n",
    "\n",
    "#w = \"True\"\n",
    "#z = \"False\"\n",
    "#print(w, z)\n",
    "\n",
    "#data = \"Data is everywhere\"     # data is considered as a variable which contain a string value\n",
    "#print(data)\n",
    "\n",
    "#data vanguard = \"Shaping the Data Vanguard of the Philippines\"\n",
    "#print(data vanguard)"
   ]
  },
  {
   "cell_type": "markdown",
   "metadata": {},
   "source": [
    "Python Lists are used to store multiple items in a single variable\n",
    "\n",
    "Lists are created using square brackets."
   ]
  },
  {
   "cell_type": "code",
   "execution_count": 50,
   "metadata": {},
   "outputs": [],
   "source": [
    "list1 = [0, 1, 2, 3, 4, 5]\n",
    "\n",
    "# Create a list\n",
    "# Dimensions of an Aquarium\n",
    "length = 5\n",
    "width = 2\n",
    "height = 2\n",
    "\n",
    "#aquarium_dimension = [length, width, height]\n",
    "#print(aquarium_dimension)\n",
    "\n",
    "#new_aquarium_dimension = [\"length\", length, \"width\", width, \"height\", height]\n",
    "#print(new_aquarium_dimension)\n",
    "#print(type(new_aquarium_dimension), type(aquarium_dimension))\n",
    "\n",
    "# Create a list of lists\n",
    "\n",
    "#aquarium_dimension = [[\"length\", length],[\"width\", width], [\"height\", height]]\n",
    "#print(aquarium_dimension)\n",
    "#print(type(aquarium_dimension))\n"
   ]
  },
  {
   "cell_type": "code",
   "execution_count": 58,
   "metadata": {},
   "outputs": [],
   "source": [
    "# Subsetting the list\n",
    "new_aquarium_dimension = [\"length\", length, \"width\", width, \"height\", height]\n",
    "\n",
    "#print(new_aquarium_dimension[1])\n",
    "#print(new_aquarium_dimension[3])\n",
    "#print(new_aquarium_dimension[4])\n",
    "\n",
    "# Subset and calculate\n",
    "# what is the volume of the aquarium?\n",
    "# volume = length * width * height\n",
    "\n",
    "#volume = new_aquarium_dimension[1]*new_aquarium_dimension[3]*new_aquarium_dimension[5]\n",
    "#print(volume)\n",
    "\n",
    "# Slicing and Dicing\n",
    "#aquarium_base = new_aquarium_dimension[:4]\n",
    "#aquarium_height = new_aquarium_dimension[4:] \n",
    "#print(aquarium_base)\n",
    "#print(aquarium_height)\n",
    "\n",
    "# Subsetting list of lists\n",
    "aquarium_dimension = [[\"length\", length],[\"width\", width], [\"height\", height]]\n",
    "#print(aquarium_dimension[1][0])\n",
    "#print(aquarium_dimension[2][2])"
   ]
  },
  {
   "cell_type": "code",
   "execution_count": null,
   "metadata": {},
   "outputs": [],
   "source": [
    "# Replacing list elements\n",
    "\n",
    "new_aquarium_dimension = [\"length\", 5, \"width\", 3, \"height\", 2]\n",
    "#print(new_aquarium_dimension)\n",
    "#new_aquarium_dimension[1] = 6\n",
    "#new_aquarium_dimension[2] = \"WIDTH\"\n",
    "#print(new_aquarium_dimension)\n",
    "\n",
    "# Extedn a list\n",
    "new_aquarium_dimension_and_mass = new_aquarium_dimension + ['mass', 829]\n",
    "print(new_aquarium_dimension_and_mass)\n",
    "\n",
    "del(new_aquarium_dimension_and_mass[7])\n",
    "print(new_aquarium_dimension_and_mass)"
   ]
  },
  {
   "cell_type": "code",
   "execution_count": null,
   "metadata": {},
   "outputs": [],
   "source": [
    "# list() function returns a list in Python\n",
    "\n",
    "string1 = 'Data Vanguard'\n",
    "new_list = list(string1)\n",
    "\n",
    "print(new_list)\n"
   ]
  },
  {
   "cell_type": "code",
   "execution_count": null,
   "metadata": {},
   "outputs": [],
   "source": []
  }
 ],
 "metadata": {
  "kernelspec": {
   "display_name": ".venv",
   "language": "python",
   "name": "python3"
  },
  "language_info": {
   "codemirror_mode": {
    "name": "ipython",
    "version": 3
   },
   "file_extension": ".py",
   "mimetype": "text/x-python",
   "name": "python",
   "nbconvert_exporter": "python",
   "pygments_lexer": "ipython3",
   "version": "3.9.13"
  },
  "orig_nbformat": 4
 },
 "nbformat": 4,
 "nbformat_minor": 2
}
